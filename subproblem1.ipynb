{
 "cells": [
  {
   "cell_type": "markdown",
   "metadata": {},
   "source": [
    "# INF442: PI 3 : GDPR in practice"
   ]
  },
  {
   "cell_type": "markdown",
   "metadata": {},
   "source": [
    "## Subproblem 1: Representation computing and supervised binary classification"
   ]
  },
  {
   "cell_type": "markdown",
   "metadata": {},
   "source": [
    "### Libraries importation"
   ]
  },
  {
   "cell_type": "code",
   "execution_count": 1,
   "metadata": {},
   "outputs": [
    {
     "name": "stderr",
     "output_type": "stream",
     "text": [
      "/Users/ralie/.pyenv/versions/3.10.13/envs/inf442/lib/python3.10/site-packages/tqdm/auto.py:21: TqdmWarning: IProgress not found. Please update jupyter and ipywidgets. See https://ipywidgets.readthedocs.io/en/stable/user_install.html\n",
      "  from .autonotebook import tqdm as notebook_tqdm\n"
     ]
    }
   ],
   "source": [
    "import numpy as np\n",
    "from tqdm import tqdm, trange\n",
    "import matplotlib.pyplot as plt\n",
    "\n",
    "# Datascience imports\n",
    "import sklearn as sk\n",
    "import torch\n",
    "from torch.nn import CrossEntropyLoss\n",
    "from torch.utils.data import DataLoader, RandomSampler, SequentialSampler, TensorDataset\n",
    "from transformers import BertTokenizer, BertModel, pipeline\n",
    "import pandas as pd"
   ]
  },
  {
   "cell_type": "markdown",
   "metadata": {},
   "source": [
    "### Dataset importation"
   ]
  },
  {
   "cell_type": "code",
   "execution_count": 2,
   "metadata": {},
   "outputs": [],
   "source": [
    "# read datasets from csv\n",
    "X_train = pd.read_csv('data/representation.eng.train.csv')\n",
    "X_test = pd.read_csv('data/representation.eng.testa.csv')\n",
    "\n",
    "y_train = pd.read_csv('data/true_labels.eng.train.csv')\n",
    "y_test = pd.read_csv('data/true_labels.eng.testa.csv')\n"
   ]
  },
  {
   "cell_type": "markdown",
   "metadata": {},
   "source": [
    "### Dataset Exploration"
   ]
  },
  {
   "cell_type": "code",
   "execution_count": 3,
   "metadata": {},
   "outputs": [
    {
     "name": "stdout",
     "output_type": "stream",
     "text": [
      "The training data has the shape: (9999, 768), and the training labels has the shape: (9999, 1)\n",
      "The testing data has the shape: (1999, 768), and the testing labels has the shape: (1999, 1)\n",
      "The proportion of the classes in the training data: O     \n",
      "O         0.835184\n",
      "I-PER     0.054005\n",
      "I-ORG     0.046505\n",
      "I-LOC     0.040104\n",
      "I-MISC    0.023802\n",
      "B-MISC    0.000300\n",
      "B-ORG     0.000100\n",
      "Name: proportion, dtype: float64\n"
     ]
    }
   ],
   "source": [
    "# Dataset exploration\n",
    "#print(X_train.head(2))\n",
    "#print(y_train.head(2))\n",
    "\n",
    "# The shape of the dataset\n",
    "print(f\"The training data has the shape: {X_train.shape}, and the training labels has the shape: {y_train.shape}\")\n",
    "print(f\"The testing data has the shape: {X_test.shape}, and the testing labels has the shape: {y_test.shape}\")\n",
    "\n",
    "# The proportion of the classes\n",
    "print(f\"The proportion of the classes in the training data: {y_train.value_counts(normalize=True)}\")\n"
   ]
  },
  {
   "cell_type": "markdown",
   "metadata": {},
   "source": [
    "### Dataset processing "
   ]
  },
  {
   "cell_type": "code",
   "execution_count": 4,
   "metadata": {},
   "outputs": [
    {
     "name": "stdout",
     "output_type": "stream",
     "text": [
      "O\n",
      "0    0.945995\n",
      "1    0.054005\n",
      "Name: proportion, dtype: float64\n"
     ]
    }
   ],
   "source": [
    "# Processing the data to do a binary classification\n",
    "# The classes will move from 0-4 to 0-1: I-PER -> 1 , and all the other classes -> 0\n",
    "\n",
    "def label_mapping(x):\n",
    "    if x == 'I-PER' or x == 'B-PER':\n",
    "        return 1\n",
    "    else:\n",
    "        return 0\n",
    "\n",
    "y_train_binary = y_train.map(label_mapping)\n",
    "y_test_binary = y_test.map(label_mapping)\n",
    "\n",
    "print(y_train_binary.value_counts(normalize=True))"
   ]
  },
  {
   "cell_type": "markdown",
   "metadata": {},
   "source": [
    "### Binary classification"
   ]
  },
  {
   "cell_type": "code",
   "execution_count": 8,
   "metadata": {},
   "outputs": [
    {
     "name": "stdout",
     "output_type": "stream",
     "text": [
      "Shape of training data: (9999, 768)\n",
      "Shape of test data: (1999, 768)\n"
     ]
    }
   ],
   "source": [
    "# Binary classification\n",
    "\n",
    "# Let's try many supervised learning models:\n",
    "\n",
    "# 1. Logistic Regression\n",
    "from sklearn.linear_model import LogisticRegression\n",
    "\n",
    "# 2. SVM\n",
    "from sklearn.svm import SVC\n",
    "\n",
    "# 3. k-NN\n",
    "from sklearn.neighbors import KNeighborsClassifier\n",
    "\n",
    "# 4. Random Forest\n",
    "from sklearn.ensemble import RandomForestClassifier\n",
    "\n",
    "\n",
    "# Fit and train the model\n",
    "def fit_and_train(model, X_train, y_train, X_test, y_test):\n",
    "    model.fit(X_train, y_train)\n",
    "    y_pred = model.predict(X_test)\n",
    "    return y_pred\n",
    "\n",
    "# Evaluate the model\n",
    "def evaluate(y_test, y_pred):\n",
    "    accuracy = sk.metrics.accuracy_score(y_test, y_pred)\n",
    "    precision = sk.metrics.precision_score(y_test, y_pred)\n",
    "    recall = sk.metrics.recall_score(y_test, y_pred)\n",
    "    f1 = sk.metrics.f1_score(y_test, y_pred)\n",
    "    return accuracy, precision, recall, f1\n",
    "\n",
    "\n",
    "print(f\"Shape of training data: {X_train.shape}\")\n",
    "print(f\"Shape of test data: {X_test.shape}\")"
   ]
  },
  {
   "cell_type": "code",
   "execution_count": 6,
   "metadata": {},
   "outputs": [],
   "source": [
    "# Dataframe to numpy array\n",
    "X_train = X_train.to_numpy()\n",
    "X_test = X_test.to_numpy()\n",
    "y_train_binary = y_train_binary.to_numpy()\n",
    "y_test_binary = y_test_binary.to_numpy()\n",
    "\n",
    "# Change the shape of y to 1D\n",
    "y_train_binary = y_train_binary.reshape(-1)\n",
    "y_test_binary = y_test_binary.reshape(-1)"
   ]
  },
  {
   "cell_type": "code",
   "execution_count": 9,
   "metadata": {},
   "outputs": [
    {
     "name": "stdout",
     "output_type": "stream",
     "text": [
      "                 Model  Accuracy  Precision    Recall        F1\n",
      "0  Logistic Regression  0.995498   0.963303  0.954545  0.958904\n",
      "1                  SVM  0.994997   0.971698  0.936364  0.953704\n",
      "2                 k-NN  0.988494   0.899083  0.890909  0.894977\n",
      "3        Random Forest  0.947474   1.000000  0.045455  0.086957\n"
     ]
    }
   ],
   "source": [
    "# Save the metrics in a dataframe\n",
    "metrics = pd.DataFrame(columns=['Model', 'Accuracy', 'Precision', 'Recall', 'F1'])\n",
    "\n",
    "# Logistic Regression\n",
    "model = LogisticRegression()\n",
    "y_pred = fit_and_train(model, X_train, y_train_binary, X_test, y_test_binary)\n",
    "accuracy, precision, recall, f1 = evaluate(y_test_binary, y_pred)\n",
    "#print(f\"Logistic Regression: \\nAccuracy: {accuracy}, Precision: {precision}, Recall: {recall}, F1: {f1}\")\n",
    "metrics.loc[0] = ['Logistic Regression', accuracy, precision, recall, f1]\n",
    "\n",
    "# SVM\n",
    "model = SVC()\n",
    "y_pred = fit_and_train(model, X_train, y_train_binary, X_test, y_test_binary)\n",
    "accuracy, precision, recall, f1 = evaluate(y_test_binary, y_pred)\n",
    "#print(f\"SVM: \\nAccuracy: {accuracy}, Precision: {precision}, Recall: {recall}, F1: {f1}\")\n",
    "metrics.loc[1] = ['SVM', accuracy, precision, recall, f1]\n",
    "\n",
    "# k-NN\n",
    "model = KNeighborsClassifier()\n",
    "y_pred = fit_and_train(model, X_train, y_train_binary, X_test, y_test_binary)\n",
    "accuracy, precision, recall, f1 = evaluate(y_test_binary, y_pred)\n",
    "#print(f\"k-NN: \\nAccuracy: {accuracy}, Precision: {precision}, Recall: {recall}, F1: {f1}\")\n",
    "metrics.loc[2] = ['k-NN', accuracy, precision, recall, f1]\n",
    "\n",
    "# Random Forest\n",
    "model = RandomForestClassifier()\n",
    "y_pred = fit_and_train(model, X_train, y_train_binary, X_test, y_test_binary)\n",
    "accuracy, precision, recall, f1 = evaluate(y_test_binary, y_pred)\n",
    "#print(f\"Random Forest: \\nAccuracy: {accuracy}, Precision: {precision}, Recall: {recall}, F1: {f1}\")\n",
    "metrics.loc[3] = ['Random Forest', accuracy, precision, recall, f1]\n",
    "\n",
    "print(metrics)\n",
    "\n",
    "\n",
    "\n"
   ]
  },
  {
   "cell_type": "code",
   "execution_count": 10,
   "metadata": {},
   "outputs": [],
   "source": [
    "#save the metrics into a csv file\n",
    "metrics.to_csv('metrics.csv', index=False)"
   ]
  },
  {
   "cell_type": "code",
   "execution_count": null,
   "metadata": {},
   "outputs": [],
   "source": []
  }
 ],
 "metadata": {
  "language_info": {
   "name": "python"
  }
 },
 "nbformat": 4,
 "nbformat_minor": 2
}
